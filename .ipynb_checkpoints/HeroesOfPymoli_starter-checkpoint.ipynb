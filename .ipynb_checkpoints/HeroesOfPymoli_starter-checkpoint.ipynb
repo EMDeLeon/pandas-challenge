{
 "cells": [
  {
   "cell_type": "markdown",
   "metadata": {},
   "source": [
    "### Note\n",
    "* Instructions have been included for each segment. You do not have to follow them exactly, but they are included to help you think through the steps."
   ]
  },
  {
   "cell_type": "code",
   "execution_count": 1,
   "metadata": {},
   "outputs": [],
   "source": [
    "# Dependencies and Setup\n",
    "import pandas as pd\n",
    "import numpy as np\n",
    "\n",
    "# File to Load (Remember to Change These)\n",
    "purchase_file = \"Resources/purchase_data.csv\"\n",
    "\n",
    "# Read Purchasing File and store into Pandas data frame\n",
    "purchase_data_df = pd.read_csv(purchase_file)"
   ]
  },
  {
   "cell_type": "code",
   "execution_count": 2,
   "metadata": {},
   "outputs": [
    {
     "data": {
      "text/html": [
       "<div>\n",
       "<style scoped>\n",
       "    .dataframe tbody tr th:only-of-type {\n",
       "        vertical-align: middle;\n",
       "    }\n",
       "\n",
       "    .dataframe tbody tr th {\n",
       "        vertical-align: top;\n",
       "    }\n",
       "\n",
       "    .dataframe thead th {\n",
       "        text-align: right;\n",
       "    }\n",
       "</style>\n",
       "<table border=\"1\" class=\"dataframe\">\n",
       "  <thead>\n",
       "    <tr style=\"text-align: right;\">\n",
       "      <th></th>\n",
       "      <th>Purchase ID</th>\n",
       "      <th>SN</th>\n",
       "      <th>Age</th>\n",
       "      <th>Gender</th>\n",
       "      <th>Item ID</th>\n",
       "      <th>Item Name</th>\n",
       "      <th>Price</th>\n",
       "    </tr>\n",
       "  </thead>\n",
       "  <tbody>\n",
       "    <tr>\n",
       "      <td>0</td>\n",
       "      <td>0</td>\n",
       "      <td>Lisim78</td>\n",
       "      <td>20</td>\n",
       "      <td>Male</td>\n",
       "      <td>108</td>\n",
       "      <td>Extraction, Quickblade Of Trembling Hands</td>\n",
       "      <td>3.53</td>\n",
       "    </tr>\n",
       "    <tr>\n",
       "      <td>1</td>\n",
       "      <td>1</td>\n",
       "      <td>Lisovynya38</td>\n",
       "      <td>40</td>\n",
       "      <td>Male</td>\n",
       "      <td>143</td>\n",
       "      <td>Frenzied Scimitar</td>\n",
       "      <td>1.56</td>\n",
       "    </tr>\n",
       "    <tr>\n",
       "      <td>2</td>\n",
       "      <td>2</td>\n",
       "      <td>Ithergue48</td>\n",
       "      <td>24</td>\n",
       "      <td>Male</td>\n",
       "      <td>92</td>\n",
       "      <td>Final Critic</td>\n",
       "      <td>4.88</td>\n",
       "    </tr>\n",
       "    <tr>\n",
       "      <td>3</td>\n",
       "      <td>3</td>\n",
       "      <td>Chamassasya86</td>\n",
       "      <td>24</td>\n",
       "      <td>Male</td>\n",
       "      <td>100</td>\n",
       "      <td>Blindscythe</td>\n",
       "      <td>3.27</td>\n",
       "    </tr>\n",
       "    <tr>\n",
       "      <td>4</td>\n",
       "      <td>4</td>\n",
       "      <td>Iskosia90</td>\n",
       "      <td>23</td>\n",
       "      <td>Male</td>\n",
       "      <td>131</td>\n",
       "      <td>Fury</td>\n",
       "      <td>1.44</td>\n",
       "    </tr>\n",
       "  </tbody>\n",
       "</table>\n",
       "</div>"
      ],
      "text/plain": [
       "   Purchase ID             SN  Age Gender  Item ID  \\\n",
       "0            0        Lisim78   20   Male      108   \n",
       "1            1    Lisovynya38   40   Male      143   \n",
       "2            2     Ithergue48   24   Male       92   \n",
       "3            3  Chamassasya86   24   Male      100   \n",
       "4            4      Iskosia90   23   Male      131   \n",
       "\n",
       "                                   Item Name  Price  \n",
       "0  Extraction, Quickblade Of Trembling Hands   3.53  \n",
       "1                          Frenzied Scimitar   1.56  \n",
       "2                               Final Critic   4.88  \n",
       "3                                Blindscythe   3.27  \n",
       "4                                       Fury   1.44  "
      ]
     },
     "execution_count": 2,
     "metadata": {},
     "output_type": "execute_result"
    }
   ],
   "source": [
    "purchase_data_df.head()"
   ]
  },
  {
   "cell_type": "markdown",
   "metadata": {},
   "source": [
    "## Player Count"
   ]
  },
  {
   "cell_type": "markdown",
   "metadata": {},
   "source": [
    "* Display the total number of players\n"
   ]
  },
  {
   "cell_type": "code",
   "execution_count": 3,
   "metadata": {},
   "outputs": [
    {
     "data": {
      "text/html": [
       "<div>\n",
       "<style scoped>\n",
       "    .dataframe tbody tr th:only-of-type {\n",
       "        vertical-align: middle;\n",
       "    }\n",
       "\n",
       "    .dataframe tbody tr th {\n",
       "        vertical-align: top;\n",
       "    }\n",
       "\n",
       "    .dataframe thead th {\n",
       "        text-align: right;\n",
       "    }\n",
       "</style>\n",
       "<table border=\"1\" class=\"dataframe\">\n",
       "  <thead>\n",
       "    <tr style=\"text-align: right;\">\n",
       "      <th></th>\n",
       "      <th>Total Players</th>\n",
       "    </tr>\n",
       "  </thead>\n",
       "  <tbody>\n",
       "    <tr>\n",
       "      <td>0</td>\n",
       "      <td>576</td>\n",
       "    </tr>\n",
       "  </tbody>\n",
       "</table>\n",
       "</div>"
      ],
      "text/plain": [
       "   Total Players\n",
       "0            576"
      ]
     },
     "execution_count": 3,
     "metadata": {},
     "output_type": "execute_result"
    }
   ],
   "source": [
    "unique_values = purchase_data_df[\"SN\"].nunique()\n",
    "Total_Players = unique_values - 1\n",
    "Total_Players_Final= pd.DataFrame({\"Total Players\": [unique_values]}, columns= [\"Total Players\"])\n",
    "Total_Players_Final"
   ]
  },
  {
   "cell_type": "markdown",
   "metadata": {},
   "source": [
    "## Purchasing Analysis (Total)"
   ]
  },
  {
   "cell_type": "markdown",
   "metadata": {},
   "source": [
    "* Run basic calculations to obtain number of unique items, average price, etc.\n",
    "\n",
    "\n",
    "* Create a summary data frame to hold the results\n",
    "\n",
    "\n",
    "* Optional: give the displayed data cleaner formatting\n",
    "\n",
    "\n",
    "* Display the summary data frame\n"
   ]
  },
  {
   "cell_type": "code",
   "execution_count": 4,
   "metadata": {},
   "outputs": [
    {
     "data": {
      "text/plain": [
       "179"
      ]
     },
     "execution_count": 4,
     "metadata": {},
     "output_type": "execute_result"
    }
   ],
   "source": [
    "# number of unique items \n",
    "unique_items = purchase_data_df[\"Item Name\"].nunique()\n",
    "unique_items"
   ]
  },
  {
   "cell_type": "code",
   "execution_count": 5,
   "metadata": {},
   "outputs": [
    {
     "data": {
      "text/plain": [
       "3.050987179487176"
      ]
     },
     "execution_count": 5,
     "metadata": {},
     "output_type": "execute_result"
    }
   ],
   "source": [
    "#Average Purchase Price  \n",
    "Avg_Price = purchase_data_df[\"Price\"].mean()\n",
    "Avg_Price\n"
   ]
  },
  {
   "cell_type": "code",
   "execution_count": 6,
   "metadata": {},
   "outputs": [
    {
     "data": {
      "text/plain": [
       "780"
      ]
     },
     "execution_count": 6,
     "metadata": {},
     "output_type": "execute_result"
    }
   ],
   "source": [
    "#Total Number of Purchases \n",
    "Ttl_Purchases = purchase_data_df[\"Purchase ID\"].count()\n",
    "Ttl_Purchases"
   ]
  },
  {
   "cell_type": "code",
   "execution_count": 7,
   "metadata": {},
   "outputs": [
    {
     "data": {
      "text/plain": [
       "2379.77"
      ]
     },
     "execution_count": 7,
     "metadata": {},
     "output_type": "execute_result"
    }
   ],
   "source": [
    "#Total Purchase Price\n",
    "Ttl_Rev = purchase_data_df[\"Price\"].sum()\n",
    "Ttl_Rev"
   ]
  },
  {
   "cell_type": "code",
   "execution_count": 8,
   "metadata": {
    "scrolled": true
   },
   "outputs": [
    {
     "data": {
      "text/html": [
       "<style  type=\"text/css\" >\n",
       "</style><table id=\"T_2847b6f0_3725_11ea_8eb5_f40f2434fa0f\" ><thead>    <tr>        <th class=\"blank level0\" ></th>        <th class=\"col_heading level0 col0\" >Number of Unique Items</th>        <th class=\"col_heading level0 col1\" >Average Purchase Price</th>        <th class=\"col_heading level0 col2\" >Number of Purchases</th>        <th class=\"col_heading level0 col3\" >Total Revenue</th>    </tr></thead><tbody>\n",
       "                <tr>\n",
       "                        <th id=\"T_2847b6f0_3725_11ea_8eb5_f40f2434fa0flevel0_row0\" class=\"row_heading level0 row0\" >0</th>\n",
       "                        <td id=\"T_2847b6f0_3725_11ea_8eb5_f40f2434fa0frow0_col0\" class=\"data row0 col0\" >179</td>\n",
       "                        <td id=\"T_2847b6f0_3725_11ea_8eb5_f40f2434fa0frow0_col1\" class=\"data row0 col1\" >$3.05</td>\n",
       "                        <td id=\"T_2847b6f0_3725_11ea_8eb5_f40f2434fa0frow0_col2\" class=\"data row0 col2\" >780</td>\n",
       "                        <td id=\"T_2847b6f0_3725_11ea_8eb5_f40f2434fa0frow0_col3\" class=\"data row0 col3\" >$2379.77</td>\n",
       "            </tr>\n",
       "    </tbody></table>"
      ],
      "text/plain": [
       "<pandas.io.formats.style.Styler at 0x11bc18910>"
      ]
     },
     "execution_count": 8,
     "metadata": {},
     "output_type": "execute_result"
    }
   ],
   "source": [
    "# Purchase Analysis (Total) Summary\n",
    "Purch_Summary_df = pd.DataFrame({\"Number of Unique Items\":[unique_items],\"Average Purchase Price\":[Avg_Price],\n",
    "                                \"Number of Purchases\":[Ttl_Purchases],\"Total Revenue\":[Ttl_Rev]},\n",
    "                                columns=[\"Number of Unique Items\", \"Average Purchase Price\",\n",
    "                                \"Number of Purchases\", \"Total Revenue\"])\n",
    "\n",
    "Purch_Summary_df.style.format({\"Average Purchase Price\": \"${:.2f}\",\"Total Revenue\": \"${:.2f}\"})\n"
   ]
  },
  {
   "cell_type": "markdown",
   "metadata": {},
   "source": [
    "## Gender Demographics"
   ]
  },
  {
   "cell_type": "markdown",
   "metadata": {},
   "source": [
    "* Percentage and Count of Male Players\n",
    "\n",
    "\n",
    "* Percentage and Count of Female Players\n",
    "\n",
    "\n",
    "* Percentage and Count of Other / Non-Disclosed\n",
    "\n",
    "\n"
   ]
  },
  {
   "cell_type": "code",
   "execution_count": 9,
   "metadata": {},
   "outputs": [
    {
     "data": {
      "text/plain": [
       "484"
      ]
     },
     "execution_count": 9,
     "metadata": {},
     "output_type": "execute_result"
    }
   ],
   "source": [
    "MalePlayers= purchase_data_df[purchase_data_df[\"Gender\"]==\"Male\"][\"SN\"].nunique()\n",
    "MalePlayers"
   ]
  },
  {
   "cell_type": "code",
   "execution_count": 10,
   "metadata": {},
   "outputs": [
    {
     "data": {
      "text/plain": [
       "81"
      ]
     },
     "execution_count": 10,
     "metadata": {},
     "output_type": "execute_result"
    }
   ],
   "source": [
    "FemalePlayers= purchase_data_df[purchase_data_df[\"Gender\"]==\"Female\"][\"SN\"].nunique()\n",
    "FemalePlayers"
   ]
  },
  {
   "cell_type": "code",
   "execution_count": 11,
   "metadata": {},
   "outputs": [
    {
     "data": {
      "text/plain": [
       "11"
      ]
     },
     "execution_count": 11,
     "metadata": {},
     "output_type": "execute_result"
    }
   ],
   "source": [
    "Other_ND_Players= purchase_data_df[purchase_data_df[\"Gender\"]==\"Other / Non-Disclosed\"][\"SN\"].nunique()\n",
    "Other_ND_Players"
   ]
  },
  {
   "cell_type": "code",
   "execution_count": 12,
   "metadata": {},
   "outputs": [
    {
     "data": {
      "text/plain": [
       "84.17391304347827"
      ]
     },
     "execution_count": 12,
     "metadata": {},
     "output_type": "execute_result"
    }
   ],
   "source": [
    "MalePct= (MalePlayers/Total_Players)*100\n",
    "MalePct"
   ]
  },
  {
   "cell_type": "code",
   "execution_count": 13,
   "metadata": {},
   "outputs": [
    {
     "data": {
      "text/plain": [
       "14.08695652173913"
      ]
     },
     "execution_count": 13,
     "metadata": {},
     "output_type": "execute_result"
    }
   ],
   "source": [
    "FemalePct= (FemalePlayers/Total_Players)*100\n",
    "FemalePct"
   ]
  },
  {
   "cell_type": "code",
   "execution_count": 14,
   "metadata": {},
   "outputs": [
    {
     "data": {
      "text/plain": [
       "1.9130434782608694"
      ]
     },
     "execution_count": 14,
     "metadata": {},
     "output_type": "execute_result"
    }
   ],
   "source": [
    "OtherPct= (Other_ND_Players/Total_Players)*100\n",
    "OtherPct"
   ]
  },
  {
   "cell_type": "code",
   "execution_count": 15,
   "metadata": {},
   "outputs": [
    {
     "data": {
      "text/html": [
       "<style  type=\"text/css\" >\n",
       "</style><table id=\"T_28520786_3725_11ea_8eb5_f40f2434fa0f\" ><thead>    <tr>        <th class=\"blank level0\" ></th>        <th class=\"col_heading level0 col0\" >Gender</th>        <th class=\"col_heading level0 col1\" >Percentage of Players</th>        <th class=\"col_heading level0 col2\" >Total Count</th>    </tr></thead><tbody>\n",
       "                <tr>\n",
       "                        <th id=\"T_28520786_3725_11ea_8eb5_f40f2434fa0flevel0_row0\" class=\"row_heading level0 row0\" >0</th>\n",
       "                        <td id=\"T_28520786_3725_11ea_8eb5_f40f2434fa0frow0_col0\" class=\"data row0 col0\" >Male</td>\n",
       "                        <td id=\"T_28520786_3725_11ea_8eb5_f40f2434fa0frow0_col1\" class=\"data row0 col1\" >84.17%</td>\n",
       "                        <td id=\"T_28520786_3725_11ea_8eb5_f40f2434fa0frow0_col2\" class=\"data row0 col2\" >484</td>\n",
       "            </tr>\n",
       "            <tr>\n",
       "                        <th id=\"T_28520786_3725_11ea_8eb5_f40f2434fa0flevel0_row1\" class=\"row_heading level0 row1\" >1</th>\n",
       "                        <td id=\"T_28520786_3725_11ea_8eb5_f40f2434fa0frow1_col0\" class=\"data row1 col0\" >Female</td>\n",
       "                        <td id=\"T_28520786_3725_11ea_8eb5_f40f2434fa0frow1_col1\" class=\"data row1 col1\" >14.09%</td>\n",
       "                        <td id=\"T_28520786_3725_11ea_8eb5_f40f2434fa0frow1_col2\" class=\"data row1 col2\" >81</td>\n",
       "            </tr>\n",
       "            <tr>\n",
       "                        <th id=\"T_28520786_3725_11ea_8eb5_f40f2434fa0flevel0_row2\" class=\"row_heading level0 row2\" >2</th>\n",
       "                        <td id=\"T_28520786_3725_11ea_8eb5_f40f2434fa0frow2_col0\" class=\"data row2 col0\" >Other / Non-Disclosed</td>\n",
       "                        <td id=\"T_28520786_3725_11ea_8eb5_f40f2434fa0frow2_col1\" class=\"data row2 col1\" >1.91%</td>\n",
       "                        <td id=\"T_28520786_3725_11ea_8eb5_f40f2434fa0frow2_col2\" class=\"data row2 col2\" >11</td>\n",
       "            </tr>\n",
       "    </tbody></table>"
      ],
      "text/plain": [
       "<pandas.io.formats.style.Styler at 0x11c6fcc50>"
      ]
     },
     "execution_count": 15,
     "metadata": {},
     "output_type": "execute_result"
    }
   ],
   "source": [
    "# Gender Demographics \n",
    "Gender_Dem_df = pd.DataFrame({\"Gender\": [\"Male\", \"Female\", \"Other / Non-Disclosed\"],\n",
    "                              \"Percentage of Players\": [MalePct, FemalePct, OtherPct],\n",
    "                                        \"Total Count\": [MalePlayers, FemalePlayers, Other_ND_Players]}, \n",
    "                             columns =[\"Gender\", \"Percentage of Players\", \"Total Count\"])\n",
    "\n",
    "Gender_Dem_df.style.format({\"Percentage of Players\": \"{:.2f}%\"})"
   ]
  },
  {
   "cell_type": "markdown",
   "metadata": {},
   "source": [
    "\n",
    "## Purchasing Analysis (Gender)"
   ]
  },
  {
   "cell_type": "markdown",
   "metadata": {},
   "source": [
    "* Run basic calculations to obtain purchase count, avg. purchase price, avg. purchase total per person etc. by gender\n",
    "\n",
    "\n",
    "\n",
    "\n",
    "* Create a summary data frame to hold the results\n",
    "\n",
    "\n",
    "* Optional: give the displayed data cleaner formatting\n",
    "\n",
    "\n",
    "* Display the summary data frame"
   ]
  },
  {
   "cell_type": "code",
   "execution_count": 16,
   "metadata": {},
   "outputs": [],
   "source": [
    "#Male Basic Calculations \n",
    "MalePurchCt= purchase_data_df[purchase_data_df[\"Gender\"]==\"Male\"][\"Price\"].count()\n",
    "#MalePurchCt\n",
    "MaleAvgPrice= purchase_data_df[purchase_data_df[\"Gender\"]==\"Male\"][\"Price\"].mean()\n",
    "#MaleAvgPrice\n",
    "MaleAvgPurchTotal= MalePurchCt*MaleAvgPrice\n",
    "#MaleAvgPurchTotal"
   ]
  },
  {
   "cell_type": "code",
   "execution_count": 17,
   "metadata": {},
   "outputs": [],
   "source": [
    "#Female Basic Calculations \n",
    "FemalePurchCt= purchase_data_df[purchase_data_df[\"Gender\"]==\"Female\"][\"Price\"].count()\n",
    "#FemalePurchCt\n",
    "FemaleAvgPrice= purchase_data_df[purchase_data_df[\"Gender\"]==\"Female\"][\"Price\"].mean()\n",
    "#FemaleAvgPrice\n",
    "FemaleAvgPurchTotal= FemalePurchCt*FemaleAvgPrice\n",
    "#FemaleAvgPurchTotal\n"
   ]
  },
  {
   "cell_type": "code",
   "execution_count": 18,
   "metadata": {},
   "outputs": [],
   "source": [
    "#Other/ND Basic Calculations\n",
    "ONDPurchCt= purchase_data_df[purchase_data_df[\"Gender\"]==\"Other / Non-Disclosed\"][\"Price\"].count()\n",
    "#ONDPurchCt\n",
    "ONDAvgPrice= purchase_data_df[purchase_data_df[\"Gender\"]==\"Other / Non-Disclosed\"][\"Price\"].mean()\n",
    "#ONDAvgPrice\n",
    "ONDAvgPurchTotal= ONDPurchCt*ONDAvgPrice\n",
    "#ONDAvgPurchTotal"
   ]
  },
  {
   "cell_type": "code",
   "execution_count": 19,
   "metadata": {},
   "outputs": [
    {
     "data": {
      "text/html": [
       "<style  type=\"text/css\" >\n",
       "</style><table id=\"T_285ac77c_3725_11ea_8eb5_f40f2434fa0f\" ><thead>    <tr>        <th class=\"blank level0\" ></th>        <th class=\"col_heading level0 col0\" >Gender</th>        <th class=\"col_heading level0 col1\" >Purchase Count</th>        <th class=\"col_heading level0 col2\" >Avg Purchase Price</th>        <th class=\"col_heading level0 col3\" >Avg Purch. Ttl Per Person</th>    </tr></thead><tbody>\n",
       "                <tr>\n",
       "                        <th id=\"T_285ac77c_3725_11ea_8eb5_f40f2434fa0flevel0_row0\" class=\"row_heading level0 row0\" >0</th>\n",
       "                        <td id=\"T_285ac77c_3725_11ea_8eb5_f40f2434fa0frow0_col0\" class=\"data row0 col0\" >Male</td>\n",
       "                        <td id=\"T_285ac77c_3725_11ea_8eb5_f40f2434fa0frow0_col1\" class=\"data row0 col1\" >652</td>\n",
       "                        <td id=\"T_285ac77c_3725_11ea_8eb5_f40f2434fa0frow0_col2\" class=\"data row0 col2\" >$3.02</td>\n",
       "                        <td id=\"T_285ac77c_3725_11ea_8eb5_f40f2434fa0frow0_col3\" class=\"data row0 col3\" >$1967.64</td>\n",
       "            </tr>\n",
       "            <tr>\n",
       "                        <th id=\"T_285ac77c_3725_11ea_8eb5_f40f2434fa0flevel0_row1\" class=\"row_heading level0 row1\" >1</th>\n",
       "                        <td id=\"T_285ac77c_3725_11ea_8eb5_f40f2434fa0frow1_col0\" class=\"data row1 col0\" >Female</td>\n",
       "                        <td id=\"T_285ac77c_3725_11ea_8eb5_f40f2434fa0frow1_col1\" class=\"data row1 col1\" >113</td>\n",
       "                        <td id=\"T_285ac77c_3725_11ea_8eb5_f40f2434fa0frow1_col2\" class=\"data row1 col2\" >$3.20</td>\n",
       "                        <td id=\"T_285ac77c_3725_11ea_8eb5_f40f2434fa0frow1_col3\" class=\"data row1 col3\" >$361.94</td>\n",
       "            </tr>\n",
       "            <tr>\n",
       "                        <th id=\"T_285ac77c_3725_11ea_8eb5_f40f2434fa0flevel0_row2\" class=\"row_heading level0 row2\" >2</th>\n",
       "                        <td id=\"T_285ac77c_3725_11ea_8eb5_f40f2434fa0frow2_col0\" class=\"data row2 col0\" >Other / Non-Disclosed</td>\n",
       "                        <td id=\"T_285ac77c_3725_11ea_8eb5_f40f2434fa0frow2_col1\" class=\"data row2 col1\" >15</td>\n",
       "                        <td id=\"T_285ac77c_3725_11ea_8eb5_f40f2434fa0frow2_col2\" class=\"data row2 col2\" >$3.35</td>\n",
       "                        <td id=\"T_285ac77c_3725_11ea_8eb5_f40f2434fa0frow2_col3\" class=\"data row2 col3\" >$50.19</td>\n",
       "            </tr>\n",
       "    </tbody></table>"
      ],
      "text/plain": [
       "<pandas.io.formats.style.Styler at 0x11bd04a50>"
      ]
     },
     "execution_count": 19,
     "metadata": {},
     "output_type": "execute_result"
    }
   ],
   "source": [
    "# Gender Demographics Purchasing Analysis \n",
    "Gender_Purchases_df = pd.DataFrame({\"Gender\": [\"Male\", \"Female\", \"Other / Non-Disclosed\"],\n",
    "                              \"Purchase Count\": [MalePurchCt, FemalePurchCt, ONDPurchCt],\n",
    "                                        \"Avg Purchase Price\": [MaleAvgPrice, FemaleAvgPrice, ONDAvgPrice],\n",
    "                             \"Avg Purch. Ttl Per Person\" : [MaleAvgPurchTotal, FemaleAvgPurchTotal,ONDAvgPurchTotal]}, \n",
    "                             columns =[\"Gender\", \"Purchase Count\", \"Avg Purchase Price\",\"Avg Purch. Ttl Per Person\"])\n",
    "\n",
    "Gender_Purchases_df.style.format({\"Avg Purchase Price\": \"${:.2f}\",\"Avg Purch. Ttl Per Person\": \"${:.2f}\"})"
   ]
  },
  {
   "cell_type": "markdown",
   "metadata": {},
   "source": [
    "## Age Demographics"
   ]
  },
  {
   "cell_type": "markdown",
   "metadata": {},
   "source": [
    "* Establish bins for ages\n",
    "\n",
    "\n",
    "* Categorize the existing players using the age bins. Hint: use pd.cut()\n",
    "\n",
    "\n",
    "* Calculate the numbers and percentages by age group\n",
    "\n",
    "\n",
    "* Create a summary data frame to hold the results\n",
    "\n",
    "\n",
    "* Optional: round the percentage column to two decimal points\n",
    "\n",
    "\n",
    "* Display Age Demographics Table\n"
   ]
  },
  {
   "cell_type": "code",
   "execution_count": 20,
   "metadata": {},
   "outputs": [
    {
     "data": {
      "text/html": [
       "<style  type=\"text/css\" >\n",
       "</style><table id=\"T_286066c8_3725_11ea_8eb5_f40f2434fa0f\" ><thead>    <tr>        <th class=\"blank level0\" ></th>        <th class=\"col_heading level0 col0\" >Total Count</th>        <th class=\"col_heading level0 col1\" >Percentage of Players</th>    </tr></thead><tbody>\n",
       "                <tr>\n",
       "                        <th id=\"T_286066c8_3725_11ea_8eb5_f40f2434fa0flevel0_row0\" class=\"row_heading level0 row0\" ><10</th>\n",
       "                        <td id=\"T_286066c8_3725_11ea_8eb5_f40f2434fa0frow0_col0\" class=\"data row0 col0\" >23</td>\n",
       "                        <td id=\"T_286066c8_3725_11ea_8eb5_f40f2434fa0frow0_col1\" class=\"data row0 col1\" >4.00%</td>\n",
       "            </tr>\n",
       "            <tr>\n",
       "                        <th id=\"T_286066c8_3725_11ea_8eb5_f40f2434fa0flevel0_row1\" class=\"row_heading level0 row1\" >10-14</th>\n",
       "                        <td id=\"T_286066c8_3725_11ea_8eb5_f40f2434fa0frow1_col0\" class=\"data row1 col0\" >28</td>\n",
       "                        <td id=\"T_286066c8_3725_11ea_8eb5_f40f2434fa0frow1_col1\" class=\"data row1 col1\" >4.87%</td>\n",
       "            </tr>\n",
       "            <tr>\n",
       "                        <th id=\"T_286066c8_3725_11ea_8eb5_f40f2434fa0flevel0_row2\" class=\"row_heading level0 row2\" >15-19</th>\n",
       "                        <td id=\"T_286066c8_3725_11ea_8eb5_f40f2434fa0frow2_col0\" class=\"data row2 col0\" >136</td>\n",
       "                        <td id=\"T_286066c8_3725_11ea_8eb5_f40f2434fa0frow2_col1\" class=\"data row2 col1\" >23.65%</td>\n",
       "            </tr>\n",
       "            <tr>\n",
       "                        <th id=\"T_286066c8_3725_11ea_8eb5_f40f2434fa0flevel0_row3\" class=\"row_heading level0 row3\" >20-24</th>\n",
       "                        <td id=\"T_286066c8_3725_11ea_8eb5_f40f2434fa0frow3_col0\" class=\"data row3 col0\" >365</td>\n",
       "                        <td id=\"T_286066c8_3725_11ea_8eb5_f40f2434fa0frow3_col1\" class=\"data row3 col1\" >63.48%</td>\n",
       "            </tr>\n",
       "            <tr>\n",
       "                        <th id=\"T_286066c8_3725_11ea_8eb5_f40f2434fa0flevel0_row4\" class=\"row_heading level0 row4\" >25-29</th>\n",
       "                        <td id=\"T_286066c8_3725_11ea_8eb5_f40f2434fa0frow4_col0\" class=\"data row4 col0\" >101</td>\n",
       "                        <td id=\"T_286066c8_3725_11ea_8eb5_f40f2434fa0frow4_col1\" class=\"data row4 col1\" >17.57%</td>\n",
       "            </tr>\n",
       "            <tr>\n",
       "                        <th id=\"T_286066c8_3725_11ea_8eb5_f40f2434fa0flevel0_row5\" class=\"row_heading level0 row5\" >30-34</th>\n",
       "                        <td id=\"T_286066c8_3725_11ea_8eb5_f40f2434fa0frow5_col0\" class=\"data row5 col0\" >73</td>\n",
       "                        <td id=\"T_286066c8_3725_11ea_8eb5_f40f2434fa0frow5_col1\" class=\"data row5 col1\" >12.70%</td>\n",
       "            </tr>\n",
       "            <tr>\n",
       "                        <th id=\"T_286066c8_3725_11ea_8eb5_f40f2434fa0flevel0_row6\" class=\"row_heading level0 row6\" >35-39</th>\n",
       "                        <td id=\"T_286066c8_3725_11ea_8eb5_f40f2434fa0frow6_col0\" class=\"data row6 col0\" >41</td>\n",
       "                        <td id=\"T_286066c8_3725_11ea_8eb5_f40f2434fa0frow6_col1\" class=\"data row6 col1\" >7.13%</td>\n",
       "            </tr>\n",
       "            <tr>\n",
       "                        <th id=\"T_286066c8_3725_11ea_8eb5_f40f2434fa0flevel0_row7\" class=\"row_heading level0 row7\" >40+</th>\n",
       "                        <td id=\"T_286066c8_3725_11ea_8eb5_f40f2434fa0frow7_col0\" class=\"data row7 col0\" >13</td>\n",
       "                        <td id=\"T_286066c8_3725_11ea_8eb5_f40f2434fa0frow7_col1\" class=\"data row7 col1\" >2.26%</td>\n",
       "            </tr>\n",
       "    </tbody></table>"
      ],
      "text/plain": [
       "<pandas.io.formats.style.Styler at 0x11bced210>"
      ]
     },
     "execution_count": 20,
     "metadata": {},
     "output_type": "execute_result"
    }
   ],
   "source": [
    "# Establish the bins \n",
    "age_bins = [0, 9, 14, 19, 24, 29, 34, 39, 100]\n",
    "group_labels = [\"<10\", \"10-14\", \"15-19\", \"20-24\", \"25-29\", \"30-34\", \"35-39\", \"40+\"]\n",
    "\n",
    "# Slice the data and place it into bins\n",
    "purchase_data_df[\"Age Bins\"] = pd.cut(purchase_data_df[\"Age\"], age_bins, labels=group_labels)\n",
    "\n",
    "# percent by age bin\n",
    "Age_Demo_Count = purchase_data_df[\"Age Bins\"].value_counts()\n",
    "#Age_Demo_Count\n",
    "Age_Demo_Pct = (Age_Demo_Count / Total_Players) * 100\n",
    "#Age_Demo_Pct\n",
    "\n",
    "                           \n",
    "Age_Demo_df = pd.DataFrame({\"Total Count\": Age_Demo_Count, \"Percentage of Players\": Age_Demo_Pct}).sort_index()\n",
    "#Age_Demo_df\n",
    "\n",
    "# Summary Table with Formatting\n",
    "\n",
    "Age_Demo_df.style.format({\"Percentage of Players\": \"{:.2f}%\"})\n",
    " "
   ]
  },
  {
   "cell_type": "markdown",
   "metadata": {},
   "source": [
    "## Purchasing Analysis (Age)"
   ]
  },
  {
   "cell_type": "markdown",
   "metadata": {},
   "source": [
    "* Bin the purchase_data data frame by age\n",
    "\n",
    "\n",
    "* Run basic calculations to obtain purchase count, avg. purchase price, avg. purchase total per person etc. in the table below\n",
    "\n",
    "\n",
    "* Create a summary data frame to hold the results\n",
    "\n",
    "\n",
    "* Optional: give the displayed data cleaner formatting\n",
    "\n",
    "\n",
    "* Display the summary data frame"
   ]
  },
  {
   "cell_type": "code",
   "execution_count": 30,
   "metadata": {},
   "outputs": [
    {
     "data": {
      "text/html": [
       "<style  type=\"text/css\" >\n",
       "</style><table id=\"T_ce5cfc52_3726_11ea_8eb5_f40f2434fa0f\" ><thead>    <tr>        <th class=\"blank level0\" ></th>        <th class=\"col_heading level0 col0\" >Purchase Count</th>        <th class=\"col_heading level0 col1\" >Avg Purchase Price</th>        <th class=\"col_heading level0 col2\" >Total Purchase Value</th>    </tr>    <tr>        <th class=\"index_name level0\" >age_bins</th>        <th class=\"blank\" ></th>        <th class=\"blank\" ></th>        <th class=\"blank\" ></th>    </tr></thead><tbody>\n",
       "                <tr>\n",
       "                        <th id=\"T_ce5cfc52_3726_11ea_8eb5_f40f2434fa0flevel0_row0\" class=\"row_heading level0 row0\" ><10</th>\n",
       "                        <td id=\"T_ce5cfc52_3726_11ea_8eb5_f40f2434fa0frow0_col0\" class=\"data row0 col0\" >23</td>\n",
       "                        <td id=\"T_ce5cfc52_3726_11ea_8eb5_f40f2434fa0frow0_col1\" class=\"data row0 col1\" >$7.87</td>\n",
       "                        <td id=\"T_ce5cfc52_3726_11ea_8eb5_f40f2434fa0frow0_col2\" class=\"data row0 col2\" >$181.00</td>\n",
       "            </tr>\n",
       "            <tr>\n",
       "                        <th id=\"T_ce5cfc52_3726_11ea_8eb5_f40f2434fa0flevel0_row1\" class=\"row_heading level0 row1\" >10-14</th>\n",
       "                        <td id=\"T_ce5cfc52_3726_11ea_8eb5_f40f2434fa0frow1_col0\" class=\"data row1 col0\" >28</td>\n",
       "                        <td id=\"T_ce5cfc52_3726_11ea_8eb5_f40f2434fa0frow1_col1\" class=\"data row1 col1\" >$11.39</td>\n",
       "                        <td id=\"T_ce5cfc52_3726_11ea_8eb5_f40f2434fa0frow1_col2\" class=\"data row1 col2\" >$319.00</td>\n",
       "            </tr>\n",
       "            <tr>\n",
       "                        <th id=\"T_ce5cfc52_3726_11ea_8eb5_f40f2434fa0flevel0_row2\" class=\"row_heading level0 row2\" >15-19</th>\n",
       "                        <td id=\"T_ce5cfc52_3726_11ea_8eb5_f40f2434fa0frow2_col0\" class=\"data row2 col0\" >136</td>\n",
       "                        <td id=\"T_ce5cfc52_3726_11ea_8eb5_f40f2434fa0frow2_col1\" class=\"data row2 col1\" >$16.79</td>\n",
       "                        <td id=\"T_ce5cfc52_3726_11ea_8eb5_f40f2434fa0frow2_col2\" class=\"data row2 col2\" >$2284.00</td>\n",
       "            </tr>\n",
       "            <tr>\n",
       "                        <th id=\"T_ce5cfc52_3726_11ea_8eb5_f40f2434fa0flevel0_row3\" class=\"row_heading level0 row3\" >20-24</th>\n",
       "                        <td id=\"T_ce5cfc52_3726_11ea_8eb5_f40f2434fa0frow3_col0\" class=\"data row3 col0\" >365</td>\n",
       "                        <td id=\"T_ce5cfc52_3726_11ea_8eb5_f40f2434fa0frow3_col1\" class=\"data row3 col1\" >$21.84</td>\n",
       "                        <td id=\"T_ce5cfc52_3726_11ea_8eb5_f40f2434fa0frow3_col2\" class=\"data row3 col2\" >$7971.00</td>\n",
       "            </tr>\n",
       "            <tr>\n",
       "                        <th id=\"T_ce5cfc52_3726_11ea_8eb5_f40f2434fa0flevel0_row4\" class=\"row_heading level0 row4\" >25-29</th>\n",
       "                        <td id=\"T_ce5cfc52_3726_11ea_8eb5_f40f2434fa0frow4_col0\" class=\"data row4 col0\" >101</td>\n",
       "                        <td id=\"T_ce5cfc52_3726_11ea_8eb5_f40f2434fa0frow4_col1\" class=\"data row4 col1\" >$26.00</td>\n",
       "                        <td id=\"T_ce5cfc52_3726_11ea_8eb5_f40f2434fa0frow4_col2\" class=\"data row4 col2\" >$2626.00</td>\n",
       "            </tr>\n",
       "            <tr>\n",
       "                        <th id=\"T_ce5cfc52_3726_11ea_8eb5_f40f2434fa0flevel0_row5\" class=\"row_heading level0 row5\" >30-34</th>\n",
       "                        <td id=\"T_ce5cfc52_3726_11ea_8eb5_f40f2434fa0frow5_col0\" class=\"data row5 col0\" >73</td>\n",
       "                        <td id=\"T_ce5cfc52_3726_11ea_8eb5_f40f2434fa0frow5_col1\" class=\"data row5 col1\" >$31.38</td>\n",
       "                        <td id=\"T_ce5cfc52_3726_11ea_8eb5_f40f2434fa0frow5_col2\" class=\"data row5 col2\" >$2291.00</td>\n",
       "            </tr>\n",
       "            <tr>\n",
       "                        <th id=\"T_ce5cfc52_3726_11ea_8eb5_f40f2434fa0flevel0_row6\" class=\"row_heading level0 row6\" >35-39</th>\n",
       "                        <td id=\"T_ce5cfc52_3726_11ea_8eb5_f40f2434fa0frow6_col0\" class=\"data row6 col0\" >41</td>\n",
       "                        <td id=\"T_ce5cfc52_3726_11ea_8eb5_f40f2434fa0frow6_col1\" class=\"data row6 col1\" >$36.71</td>\n",
       "                        <td id=\"T_ce5cfc52_3726_11ea_8eb5_f40f2434fa0frow6_col2\" class=\"data row6 col2\" >$1505.00</td>\n",
       "            </tr>\n",
       "            <tr>\n",
       "                        <th id=\"T_ce5cfc52_3726_11ea_8eb5_f40f2434fa0flevel0_row7\" class=\"row_heading level0 row7\" >40+</th>\n",
       "                        <td id=\"T_ce5cfc52_3726_11ea_8eb5_f40f2434fa0frow7_col0\" class=\"data row7 col0\" >13</td>\n",
       "                        <td id=\"T_ce5cfc52_3726_11ea_8eb5_f40f2434fa0frow7_col1\" class=\"data row7 col1\" >$41.54</td>\n",
       "                        <td id=\"T_ce5cfc52_3726_11ea_8eb5_f40f2434fa0frow7_col2\" class=\"data row7 col2\" >$540.00</td>\n",
       "            </tr>\n",
       "    </tbody></table>"
      ],
      "text/plain": [
       "<pandas.io.formats.style.Styler at 0x11c70ebd0>"
      ]
     },
     "execution_count": 30,
     "metadata": {},
     "output_type": "execute_result"
    }
   ],
   "source": [
    "#Create Bin for the DF by Ages\n",
    "purchase_data_df[\"age_bins\"]= pd.cut(purchase_data_df[\"Age\"], age_bins, labels=group_labels)\n",
    "\n",
    "#Purchase Count by Age\n",
    "Age_Purch_CT = purchase_data_df.groupby([\"age_bins\"]).count().Age\n",
    "#Age_Purch_CT\n",
    "\n",
    "#Avg Purchase price by Age\n",
    "Age_Avg_Purch_Price= purchase_data_df.groupby([\"age_bins\"]).mean().Age\n",
    "\n",
    "#Purchase Total Per Person\n",
    "Age_Purch_Ttl_PP= Age_Purch_CT*Age_Avg_Purch_Price\n",
    "#Age_Purch_Ttl_PP\n",
    "\n",
    "AGE_data = pd.DataFrame({\"Purchase Count\": Age_Purch_CT,\n",
    "                            \"Avg Purchase Price\": Age_Avg_Purch_Price, \n",
    "                            \"Total Purchase Value\": Age_Purch_Ttl_PP })\n",
    "AGE_data.style.format({\"Avg Purchase Price\": \"${:.2f}\",\"Total Purchase Value\": \"${:.2f}\"})"
   ]
  },
  {
   "cell_type": "markdown",
   "metadata": {},
   "source": [
    "## Top Spenders"
   ]
  },
  {
   "cell_type": "markdown",
   "metadata": {},
   "source": [
    "* Run basic calculations to obtain the results in the table below\n",
    "\n",
    "\n",
    "* Create a summary data frame to hold the results\n",
    "\n",
    "\n",
    "* Sort the total purchase value column in descending order\n",
    "\n",
    "\n",
    "* Optional: give the displayed data cleaner formatting\n",
    "\n",
    "\n",
    "* Display a preview of the summary data frame\n",
    "\n"
   ]
  },
  {
   "cell_type": "code",
   "execution_count": 22,
   "metadata": {
    "scrolled": true
   },
   "outputs": [
    {
     "data": {
      "text/html": [
       "<div>\n",
       "<style scoped>\n",
       "    .dataframe tbody tr th:only-of-type {\n",
       "        vertical-align: middle;\n",
       "    }\n",
       "\n",
       "    .dataframe tbody tr th {\n",
       "        vertical-align: top;\n",
       "    }\n",
       "\n",
       "    .dataframe thead th {\n",
       "        text-align: right;\n",
       "    }\n",
       "</style>\n",
       "<table border=\"1\" class=\"dataframe\">\n",
       "  <thead>\n",
       "    <tr style=\"text-align: right;\">\n",
       "      <th></th>\n",
       "      <th>Total Purchase Count</th>\n",
       "      <th>Avg Purchase Price</th>\n",
       "      <th>Total Purchase Value</th>\n",
       "    </tr>\n",
       "    <tr>\n",
       "      <th>SN</th>\n",
       "      <th></th>\n",
       "      <th></th>\n",
       "      <th></th>\n",
       "    </tr>\n",
       "  </thead>\n",
       "  <tbody>\n",
       "    <tr>\n",
       "      <td>Lisosia93</td>\n",
       "      <td>5</td>\n",
       "      <td>$3.79</td>\n",
       "      <td>$18.96</td>\n",
       "    </tr>\n",
       "    <tr>\n",
       "      <td>Idastidru52</td>\n",
       "      <td>4</td>\n",
       "      <td>$3.86</td>\n",
       "      <td>$15.45</td>\n",
       "    </tr>\n",
       "    <tr>\n",
       "      <td>Chamjask73</td>\n",
       "      <td>3</td>\n",
       "      <td>$4.61</td>\n",
       "      <td>$13.83</td>\n",
       "    </tr>\n",
       "    <tr>\n",
       "      <td>Iral74</td>\n",
       "      <td>4</td>\n",
       "      <td>$3.40</td>\n",
       "      <td>$13.62</td>\n",
       "    </tr>\n",
       "    <tr>\n",
       "      <td>Iskadarya95</td>\n",
       "      <td>3</td>\n",
       "      <td>$4.37</td>\n",
       "      <td>$13.10</td>\n",
       "    </tr>\n",
       "  </tbody>\n",
       "</table>\n",
       "</div>"
      ],
      "text/plain": [
       "             Total Purchase Count Avg Purchase Price Total Purchase Value\n",
       "SN                                                                       \n",
       "Lisosia93                       5              $3.79               $18.96\n",
       "Idastidru52                     4              $3.86               $15.45\n",
       "Chamjask73                      3              $4.61               $13.83\n",
       "Iral74                          4              $3.40               $13.62\n",
       "Iskadarya95                     3              $4.37               $13.10"
      ]
     },
     "execution_count": 22,
     "metadata": {},
     "output_type": "execute_result"
    }
   ],
   "source": [
    "#group data by \"SN\" to ID each spender \n",
    "Spenders_Group= purchase_data_df.groupby([\"SN\"])\n",
    "\n",
    "# Purchase Count\n",
    "Spenders_Purch_CT = Spenders_Group[\"Price\"].count()\n",
    "#Spenders_Purch_CT\n",
    "\n",
    "#Avg Purchase price \n",
    "Spenders_Avg_Purch_Price= Spenders_Group[\"Price\"].mean()\n",
    "\n",
    "#Purchase Total Per Person\n",
    "Spenders_Purch_TTL_PP= Spenders_Purch_CT * Spenders_Avg_Purch_Price\n",
    "\n",
    "\n",
    "TopSpenders_data = pd.DataFrame({\"Total Purchase Count\": Spenders_Purch_CT,\n",
    "                            \"Avg Purchase Price\": Spenders_Avg_Purch_Price, \n",
    "                            \"Total Purchase Value\": Spenders_Purch_TTL_PP })\n",
    "\n",
    "TopSpenders_data = TopSpenders_data.sort_values([\"Total Purchase Value\"], ascending=False).round(2)\n",
    "TopSpenders_data [\"Avg Purchase Price\"] = TopSpenders_data [\"Avg Purchase Price\"].map(\"${:.2f}\".format)\n",
    "TopSpenders_data [\"Total Purchase Value\"] = TopSpenders_data [\"Total Purchase Value\"].map(\"${:.2f}\".format)\n",
    "\n",
    "\n",
    "TopSpenders_data.head()\n"
   ]
  },
  {
   "cell_type": "markdown",
   "metadata": {},
   "source": [
    "## Most Popular Items"
   ]
  },
  {
   "cell_type": "markdown",
   "metadata": {},
   "source": [
    "* Retrieve the Item ID, Item Name, and Item Price columns\n",
    "\n",
    "\n",
    "* Group by Item ID and Item Name. Perform calculations to obtain purchase count, item price, and total purchase value\n",
    "\n",
    "\n",
    "* Create a summary data frame to hold the results\n",
    "\n",
    "\n",
    "* Sort the purchase count column in descending order\n",
    "\n",
    "\n",
    "* Optional: give the displayed data cleaner formatting\n",
    "\n",
    "\n",
    "* Display a preview of the summary data frame\n",
    "\n"
   ]
  },
  {
   "cell_type": "code",
   "execution_count": 25,
   "metadata": {},
   "outputs": [
    {
     "data": {
      "text/html": [
       "<div>\n",
       "<style scoped>\n",
       "    .dataframe tbody tr th:only-of-type {\n",
       "        vertical-align: middle;\n",
       "    }\n",
       "\n",
       "    .dataframe tbody tr th {\n",
       "        vertical-align: top;\n",
       "    }\n",
       "\n",
       "    .dataframe thead th {\n",
       "        text-align: right;\n",
       "    }\n",
       "</style>\n",
       "<table border=\"1\" class=\"dataframe\">\n",
       "  <thead>\n",
       "    <tr style=\"text-align: right;\">\n",
       "      <th></th>\n",
       "      <th>Total Purchase Count</th>\n",
       "      <th>Avg Purchase Price</th>\n",
       "      <th>Total Purchase Value</th>\n",
       "    </tr>\n",
       "    <tr>\n",
       "      <th>Item Name</th>\n",
       "      <th></th>\n",
       "      <th></th>\n",
       "      <th></th>\n",
       "    </tr>\n",
       "  </thead>\n",
       "  <tbody>\n",
       "    <tr>\n",
       "      <td>Final Critic</td>\n",
       "      <td>13</td>\n",
       "      <td>$4.61</td>\n",
       "      <td>$59.99</td>\n",
       "    </tr>\n",
       "    <tr>\n",
       "      <td>Oathbreaker, Last Hope of the Breaking Storm</td>\n",
       "      <td>12</td>\n",
       "      <td>$4.23</td>\n",
       "      <td>$50.76</td>\n",
       "    </tr>\n",
       "    <tr>\n",
       "      <td>Persuasion</td>\n",
       "      <td>9</td>\n",
       "      <td>$3.22</td>\n",
       "      <td>$28.99</td>\n",
       "    </tr>\n",
       "    <tr>\n",
       "      <td>Nirvana</td>\n",
       "      <td>9</td>\n",
       "      <td>$4.90</td>\n",
       "      <td>$44.10</td>\n",
       "    </tr>\n",
       "    <tr>\n",
       "      <td>Extraction, Quickblade Of Trembling Hands</td>\n",
       "      <td>9</td>\n",
       "      <td>$3.53</td>\n",
       "      <td>$31.77</td>\n",
       "    </tr>\n",
       "  </tbody>\n",
       "</table>\n",
       "</div>"
      ],
      "text/plain": [
       "                                              Total Purchase Count  \\\n",
       "Item Name                                                            \n",
       "Final Critic                                                    13   \n",
       "Oathbreaker, Last Hope of the Breaking Storm                    12   \n",
       "Persuasion                                                       9   \n",
       "Nirvana                                                          9   \n",
       "Extraction, Quickblade Of Trembling Hands                        9   \n",
       "\n",
       "                                             Avg Purchase Price  \\\n",
       "Item Name                                                         \n",
       "Final Critic                                              $4.61   \n",
       "Oathbreaker, Last Hope of the Breaking Storm              $4.23   \n",
       "Persuasion                                                $3.22   \n",
       "Nirvana                                                   $4.90   \n",
       "Extraction, Quickblade Of Trembling Hands                 $3.53   \n",
       "\n",
       "                                             Total Purchase Value  \n",
       "Item Name                                                          \n",
       "Final Critic                                               $59.99  \n",
       "Oathbreaker, Last Hope of the Breaking Storm               $50.76  \n",
       "Persuasion                                                 $28.99  \n",
       "Nirvana                                                    $44.10  \n",
       "Extraction, Quickblade Of Trembling Hands                  $31.77  "
      ]
     },
     "execution_count": 25,
     "metadata": {},
     "output_type": "execute_result"
    }
   ],
   "source": [
    "#DF group by Item and Item ID \n",
    "Popular_Data_Grp= purchase_data_df.groupby([\"Item Name\"])\n",
    "\n",
    "# Purchase Count\n",
    "Pop_Purch_CT= Popular_Data_Grp[\"Price\"].count()\n",
    "\n",
    "#Avg Purchase price \n",
    "Pop_Purch_Price= Popular_Data_Grp[\"Price\"].mean()\n",
    "\n",
    "#Purchase Total Per Person\n",
    "Pop_Purch_TTL_PP= Pop_Purch_CT * Pop_Purch_Price\n",
    "\n",
    "\n",
    "Popular_Data = pd.DataFrame({\"Total Purchase Count\": Pop_Purch_CT,\n",
    "                            \"Avg Purchase Price\": Pop_Purch_Price, \n",
    "                            \"Total Purchase Value\": Pop_Purch_TTL_PP })\n",
    "Popular_Data = Popular_Data.sort_values([\"Total Purchase Count\"], ascending=False).round(2)\n",
    "Popular_Data [\"Avg Purchase Price\"] = Popular_Data [\"Avg Purchase Price\"].map(\"${:.2f}\".format)\n",
    "Popular_Data [\"Total Purchase Value\"] = Popular_Data [\"Total Purchase Value\"].map(\"${:.2f}\".format)\n",
    "\n",
    "\n",
    "Popular_Data.head()"
   ]
  },
  {
   "cell_type": "markdown",
   "metadata": {},
   "source": [
    "## Most Profitable Items"
   ]
  },
  {
   "cell_type": "markdown",
   "metadata": {},
   "source": [
    "* Sort the above table by total purchase value in descending order\n",
    "\n",
    "\n",
    "* Optional: give the displayed data cleaner formatting\n",
    "\n",
    "\n",
    "* Display a preview of the data frame\n",
    "\n"
   ]
  },
  {
   "cell_type": "code",
   "execution_count": 26,
   "metadata": {
    "scrolled": true
   },
   "outputs": [
    {
     "data": {
      "text/html": [
       "<div>\n",
       "<style scoped>\n",
       "    .dataframe tbody tr th:only-of-type {\n",
       "        vertical-align: middle;\n",
       "    }\n",
       "\n",
       "    .dataframe tbody tr th {\n",
       "        vertical-align: top;\n",
       "    }\n",
       "\n",
       "    .dataframe thead th {\n",
       "        text-align: right;\n",
       "    }\n",
       "</style>\n",
       "<table border=\"1\" class=\"dataframe\">\n",
       "  <thead>\n",
       "    <tr style=\"text-align: right;\">\n",
       "      <th></th>\n",
       "      <th>Total Purchase Count</th>\n",
       "      <th>Avg Purchase Price</th>\n",
       "      <th>Total Purchase Value</th>\n",
       "    </tr>\n",
       "    <tr>\n",
       "      <th>Item Name</th>\n",
       "      <th></th>\n",
       "      <th></th>\n",
       "      <th></th>\n",
       "    </tr>\n",
       "  </thead>\n",
       "  <tbody>\n",
       "    <tr>\n",
       "      <td>Final Critic</td>\n",
       "      <td>13</td>\n",
       "      <td>$4.61</td>\n",
       "      <td>$59.99</td>\n",
       "    </tr>\n",
       "    <tr>\n",
       "      <td>Oathbreaker, Last Hope of the Breaking Storm</td>\n",
       "      <td>12</td>\n",
       "      <td>$4.23</td>\n",
       "      <td>$50.76</td>\n",
       "    </tr>\n",
       "    <tr>\n",
       "      <td>Nirvana</td>\n",
       "      <td>9</td>\n",
       "      <td>$4.90</td>\n",
       "      <td>$44.10</td>\n",
       "    </tr>\n",
       "    <tr>\n",
       "      <td>Fiery Glass Crusader</td>\n",
       "      <td>9</td>\n",
       "      <td>$4.58</td>\n",
       "      <td>$41.22</td>\n",
       "    </tr>\n",
       "    <tr>\n",
       "      <td>Singed Scalpel</td>\n",
       "      <td>8</td>\n",
       "      <td>$4.35</td>\n",
       "      <td>$34.80</td>\n",
       "    </tr>\n",
       "  </tbody>\n",
       "</table>\n",
       "</div>"
      ],
      "text/plain": [
       "                                              Total Purchase Count  \\\n",
       "Item Name                                                            \n",
       "Final Critic                                                    13   \n",
       "Oathbreaker, Last Hope of the Breaking Storm                    12   \n",
       "Nirvana                                                          9   \n",
       "Fiery Glass Crusader                                             9   \n",
       "Singed Scalpel                                                   8   \n",
       "\n",
       "                                             Avg Purchase Price  \\\n",
       "Item Name                                                         \n",
       "Final Critic                                              $4.61   \n",
       "Oathbreaker, Last Hope of the Breaking Storm              $4.23   \n",
       "Nirvana                                                   $4.90   \n",
       "Fiery Glass Crusader                                      $4.58   \n",
       "Singed Scalpel                                            $4.35   \n",
       "\n",
       "                                             Total Purchase Value  \n",
       "Item Name                                                          \n",
       "Final Critic                                               $59.99  \n",
       "Oathbreaker, Last Hope of the Breaking Storm               $50.76  \n",
       "Nirvana                                                    $44.10  \n",
       "Fiery Glass Crusader                                       $41.22  \n",
       "Singed Scalpel                                             $34.80  "
      ]
     },
     "execution_count": 26,
     "metadata": {},
     "output_type": "execute_result"
    }
   ],
   "source": [
    "#DF group by Item and Item ID \n",
    "Popular_Data= purchase_data_df.groupby([\"Item Name\"])\n",
    "\n",
    "# Purchase Count\n",
    "Pop_Purch_CT= Popular_Data_Grp[\"Price\"].count()\n",
    "\n",
    "#Avg Purchase price \n",
    "Pop_Purch_Price= Popular_Data_Grp[\"Price\"].mean()\n",
    "\n",
    "#Purchase Total Per Person\n",
    "Pop_Purch_TTL_PP= Pop_Purch_CT * Pop_Purch_Price\n",
    "\n",
    "\n",
    "Popular_Data = pd.DataFrame({\"Total Purchase Count\": Pop_Purch_CT,\n",
    "                            \"Avg Purchase Price\": Pop_Purch_Price, \n",
    "                            \"Total Purchase Value\": Pop_Purch_TTL_PP })\n",
    "Popular_Data = Popular_Data.sort_values([\"Total Purchase Value\"], ascending=False).round(2)\n",
    "Popular_Data [\"Avg Purchase Price\"] = Popular_Data [\"Avg Purchase Price\"].map(\"${:.2f}\".format)\n",
    "Popular_Data [\"Total Purchase Value\"] = Popular_Data [\"Total Purchase Value\"].map(\"${:.2f}\".format)\n",
    "\n",
    "\n",
    "Popular_Data.head()"
   ]
  },
  {
   "cell_type": "markdown",
   "metadata": {},
   "source": [
    "# OBSERVATIONS: \n",
    "#1.) The Final Critic item is the most purchased of all item, but only ahead by 1 purchase of the Oatbreaker, Last Hope of the Breaking Storm\n",
    "\n",
    "#2.) The most purchase product is also the most profitable, primairly driven by the avg. purhase price being higher than most. \n",
    "\n",
    "#3.)Age group 20-24 years account for the most purchase and are the most valuable customers. "
   ]
  },
  {
   "cell_type": "code",
   "execution_count": null,
   "metadata": {},
   "outputs": [],
   "source": []
  }
 ],
 "metadata": {
  "anaconda-cloud": {},
  "kernel_info": {
   "name": "python3"
  },
  "kernelspec": {
   "display_name": "Python 3",
   "language": "python",
   "name": "python3"
  },
  "language_info": {
   "codemirror_mode": {
    "name": "ipython",
    "version": 3
   },
   "file_extension": ".py",
   "mimetype": "text/x-python",
   "name": "python",
   "nbconvert_exporter": "python",
   "pygments_lexer": "ipython3",
   "version": "3.7.4"
  },
  "latex_envs": {
   "LaTeX_envs_menu_present": true,
   "autoclose": false,
   "autocomplete": true,
   "bibliofile": "biblio.bib",
   "cite_by": "apalike",
   "current_citInitial": 1,
   "eqLabelWithNumbers": true,
   "eqNumInitial": 1,
   "hotkeys": {
    "equation": "Ctrl-E",
    "itemize": "Ctrl-I"
   },
   "labels_anchors": false,
   "latex_user_defs": false,
   "report_style_numbering": false,
   "user_envs_cfg": false
  },
  "nteract": {
   "version": "0.2.0"
  }
 },
 "nbformat": 4,
 "nbformat_minor": 2
}
